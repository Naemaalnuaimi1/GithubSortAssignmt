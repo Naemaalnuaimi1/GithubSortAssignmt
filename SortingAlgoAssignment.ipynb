{
  "nbformat": 4,
  "nbformat_minor": 0,
  "metadata": {
    "colab": {
      "provenance": []
    },
    "kernelspec": {
      "name": "python3",
      "display_name": "Python 3"
    },
    "language_info": {
      "name": "python"
    }
  },
  "cells": [
    {
      "cell_type": "markdown",
      "source": [
        "Question 1 code"
      ],
      "metadata": {
        "id": "QpIuK1DWMfso"
      }
    },
    {
      "cell_type": "code",
      "execution_count": 1,
      "metadata": {
        "colab": {
          "base_uri": "https://localhost:8080/"
        },
        "id": "6wbjhI2CMbVM",
        "outputId": "cfa11826-e66c-456f-ac74-cc3dd689cba4"
      },
      "outputs": [
        {
          "output_type": "stream",
          "name": "stdout",
          "text": [
            "My approach\n",
            "\n",
            "Iterative approach:\n",
            "Mohammed: Almond chocolate - 3 gm - 2 AED - ID:002\n",
            "Sara: Milk chocolate - 5 gm - 3 AED - ID:003\n",
            "Shamma: strawberry chocolate - 8 gm - 5 AED - ID:004\n",
            "Saeed: Pistachio chocolate - 5 gm - 3 AED - ID:005\n",
            "Noora: Caramel chocolate - 3 gm - 6 AED - ID:006\n",
            "Alya: hazelnut chocolate - 2 gm - 9 AED - ID:007\n",
            "\n",
            "Recursive approach:\n",
            "Mohammed: Almond chocolate - 3 gm - 2 AED - ID:002\n",
            "Sara: Milk chocolate - 5 gm - 3 AED - ID:003\n",
            "Shamma: strawberry chocolate - 8 gm - 5 AED - ID:004\n",
            "Saeed: Pistachio chocolate - 5 gm - 3 AED - ID:005\n",
            "Noora: Caramel chocolate - 3 gm - 6 AED - ID:006\n",
            "Alya: hazelnut chocolate - 2 gm - 9 AED - ID:007\n",
            "\n",
            " TEST CASES\n",
            "\n",
            " Cases 1\n",
            "\n",
            "Iterative approach:\n",
            "Not enough chocolate\n",
            "\n",
            "Recursive approach:\n",
            "\n",
            " Cases 2\n",
            "\n",
            "Iterative approach:\n",
            "Mohammed: Almond chocolate - 3 gm - 2 AED - ID:002\n",
            "Sara: Milk chocolate - 5 gm - 3 AED - ID:003\n",
            "Shamma: strawberry chocolate - 8 gm - 5 AED - ID:004\n",
            "Saeed: Pistachio chocolate - 5 gm - 3 AED - ID:005\n",
            "Noora: Caramel chocolate - 3 gm - 6 AED - ID:006\n",
            "Alya: hazelnut chocolate - 2 gm - 9 AED - ID:007\n",
            "\n",
            "Recursive approach:\n",
            "Mohammed: Almond chocolate - 3 gm - 2 AED - ID:002\n",
            "Sara: Milk chocolate - 5 gm - 3 AED - ID:003\n",
            "Shamma: strawberry chocolate - 8 gm - 5 AED - ID:004\n",
            "Saeed: Pistachio chocolate - 5 gm - 3 AED - ID:005\n",
            "Noora: Caramel chocolate - 3 gm - 6 AED - ID:006\n",
            "Alya: hazelnut chocolate - 2 gm - 9 AED - ID:007\n",
            "\n",
            " Cases 3\n",
            "\n",
            "Iterative approach:\n",
            "Not enough chocolate\n",
            "\n",
            "Recursive approach:\n",
            "Mohammed: Almond chocolate - 3 gm - 2 AED - ID:002\n",
            "Sara: Milk chocolate - 5 gm - 3 AED - ID:003\n",
            "Shamma: strawberry chocolate - 8 gm - 5 AED - ID:004\n",
            "Saeed: Pistachio chocolate - 5 gm - 3 AED - ID:005\n",
            "Noora: Caramel chocolate - 3 gm - 6 AED - ID:006\n"
          ]
        }
      ],
      "source": [
        "#Q1\n",
        "\n",
        "def Iterativeapproach(chocolate,student):                 # define a function that takes two arguments\n",
        "  TotalChocolate = len(chocolate)                         # gets the total number of chcolates\n",
        "  TotalStudent = len(student)                             # gets the total number of student\n",
        "\n",
        "  if TotalChocolate < TotalStudent:                       # check if there is enough chocolate for everybody\n",
        "    print(\"Not enough chocolate\")                         # so if total chocolate is less than student it prints not enough chocolate\n",
        "\n",
        "  else:\n",
        "    for i in range(TotalStudent):                         # iterates through every student\n",
        "      print(f\"{student[i]}: {chocolate[i]['type']} chocolate - {chocolate[i]['weight']} gm - {chocolate[i]['price']} AED - ID:{chocolate[i]['ID']}\")\n",
        "                                                          # Prints a note specifying which chocolate is assigned to each student with type , weight, price and ID.\n",
        "\n",
        "def Recursiveapproach(chocolate,student, index= 0):       # define a function that takes two arguments\n",
        "  TotalChocolate = len(chocolate)                         # gets the total number of chcolates\n",
        "  TotalStudent = len(student)                             # gets the total number of student\n",
        "  if TotalStudent == 0 or index >= TotalStudent or index >= TotalChocolate: # if there are no students left, or if the index exceeds the number of students or chocolates.\n",
        "    return                                                # then exit function\n",
        "\n",
        "  else:                                                   # if the condition above are not satisfied then it which chocolate is assigned to each student with type , weight, price and ID.\n",
        "     print(f\"{student[index]}: {chocolate[index]['type']} chocolate - {chocolate[index]['weight']} gm - {chocolate[index]['price']} AED - ID:{chocolate[index]['ID']}\")\n",
        "     Recursiveapproach(chocolates, students, index+1)\n",
        "\n",
        "chocolates = [\n",
        "    {'type': 'Almond', 'weight': 3, 'price': 2 , 'ID':'002'} ,\n",
        "    {'type': 'Milk', 'weight': 5, 'price': 3, 'ID':'003'},\n",
        "    {'type': 'strawberry' , 'weight': 8, 'price': 5, 'ID':'004'},\n",
        "    {'type': 'Pistachio', 'weight': 5, 'price': 3, 'ID':'005'},\n",
        "    {'type': 'Caramel', 'weight': 3, 'price': 6, 'ID':'006'},\n",
        "    {'type': 'hazelnut', 'weight': 2, 'price': 9, 'ID':'007'}]\n",
        "\n",
        "\n",
        "students = ['Mohammed','Sara', 'Shamma', 'Saeed', 'Noora' , \"Alya\"]\n",
        "print(\"My approach\")\n",
        "print(\"\\nIterative approach:\")\n",
        "Iterativeapproach(chocolates, students)\n",
        "\n",
        "print(\"\\nRecursive approach:\")\n",
        "Recursiveapproach(chocolates, students)\n",
        "print(\"\\n TEST CASES\")\n",
        "\n",
        "print(\"\\n Cases 1\")\n",
        "\n",
        "\n",
        "chocolates = []\n",
        "\n",
        "students = ['Mohammed','Sara', 'Shamma', 'Saeed', 'Noora' , \"Alya\"]\n",
        "\n",
        "print(\"\\nIterative approach:\")\n",
        "Iterativeapproach(chocolates, students)\n",
        "\n",
        "print(\"\\nRecursive approach:\")\n",
        "Recursiveapproach(chocolates, students)\n",
        "\n",
        "print(\"\\n Cases 2\")\n",
        "\n",
        "chocolates = [\n",
        "    {'type': 'Almond', 'weight': 3, 'price': 2 , 'ID':'002'} ,\n",
        "    {'type': 'Milk', 'weight': 5, 'price': 3, 'ID':'003'},\n",
        "    {'type': 'strawberry' , 'weight': 8, 'price': 5, 'ID':'004'},\n",
        "    {'type': 'Pistachio', 'weight': 5, 'price': 3, 'ID':'005'},\n",
        "    {'type': 'Caramel', 'weight': 3, 'price': 6, 'ID':'006'},\n",
        "    {'type': 'hazelnut', 'weight': 2, 'price': 9, 'ID':'007'}]\n",
        "\n",
        "\n",
        "students = ['Mohammed','Sara', 'Shamma', 'Saeed', 'Noora' , \"Alya\"]\n",
        "\n",
        "print(\"\\nIterative approach:\")\n",
        "Iterativeapproach(chocolates, students)\n",
        "\n",
        "print(\"\\nRecursive approach:\")\n",
        "Recursiveapproach(chocolates, students)\n",
        "\n",
        "print(\"\\n Cases 3\")\n",
        "\n",
        "chocolates = [\n",
        "    {'type': 'Almond', 'weight': 3, 'price': 2 , 'ID':'002'} ,\n",
        "    {'type': 'Milk', 'weight': 5, 'price': 3, 'ID':'003'},\n",
        "    {'type': 'strawberry' , 'weight': 8, 'price': 5, 'ID':'004'},\n",
        "    {'type': 'Pistachio', 'weight': 5, 'price': 3, 'ID':'005'},\n",
        "    {'type': 'Caramel', 'weight': 3, 'price': 6, 'ID':'006'},\n",
        "    ]\n",
        "\n",
        "\n",
        "students = ['Mohammed','Sara', 'Shamma', 'Saeed', 'Noora' , \"Alya\"]\n",
        "\n",
        "print(\"\\nIterative approach:\")\n",
        "Iterativeapproach(chocolates, students)\n",
        "\n",
        "print(\"\\nRecursive approach:\")\n",
        "Recursiveapproach(chocolates, students)"
      ]
    },
    {
      "cell_type": "markdown",
      "source": [
        "Question 2 Code:"
      ],
      "metadata": {
        "id": "kGrUCRvBMo5B"
      }
    },
    {
      "cell_type": "code",
      "source": [],
      "metadata": {
        "id": "nbclJtWKMrNA"
      },
      "execution_count": null,
      "outputs": []
    },
    {
      "cell_type": "code",
      "source": [
        "#Q2\n",
        "\n",
        "def merge_sort(chocolates, key):\n",
        "    if len(chocolates) <= 1:                               # if list has 0 or 1 element\n",
        "        return chocolates\n",
        "\n",
        "                                                           # Divide the list into two halves\n",
        "\n",
        "    mid = len(chocolates) // 2\n",
        "    left_half = chocolates[:mid]\n",
        "    right_half = chocolates[mid:]\n",
        "\n",
        "                                                                  # sort each half\n",
        "    left_sorted = merge_sort(left_half, key)\n",
        "    right_sorted = merge_sort(right_half, key)\n",
        "\n",
        "    return merge(left_sorted, right_sorted, key)                  #merge the sorted halves\n",
        "\n",
        "def merge(left, right, key):\n",
        "    result = []                                                   # Intilize varibales\n",
        "    left_index = right_index = 0\n",
        "\n",
        "    while left_index < len(left) and right_index < len(right):    # Merge the two sorted lists\n",
        "        if left[left_index][key] < right[right_index][key]:\n",
        "            result.append(left[left_index])\n",
        "            left_index += 1\n",
        "        else:\n",
        "            result.append(right[right_index])\n",
        "            right_index += 1\n",
        "                                                                 # append remaining elements from either list\n",
        "\n",
        "    result.extend(left[left_index:])\n",
        "    result.extend(right[right_index:])\n",
        "\n",
        "    return result\n",
        "\n",
        "\n",
        "chocolates = [\n",
        "    {'type': 'Almond', 'weight': 3, 'price': 2 , 'ID':'002'} ,\n",
        "    {'type': 'Milk', 'weight': 5, 'price': 3, 'ID':'003'},\n",
        "    {'type': 'strawberry' , 'weight': 8, 'price': 5, 'ID':'004'},\n",
        "    {'type': 'Pistachio', 'weight': 5, 'price': 3, 'ID':'005'},\n",
        "    {'type': 'Caramel', 'weight': 3, 'price': 6, 'ID':'006'},\n",
        "    {'type': 'hazelnut', 'weight': 2, 'price': 9, 'ID':'007'}]\n",
        "\n",
        "\n",
        "students = ['Mohammed','Sara', 'Shamma', 'Saeed', 'Noora' , \"Alya\"]\n",
        "\n",
        "\n",
        "\n",
        "sorted_by_weight = merge_sort(chocolates.copy(), 'weight')\n",
        "sorted_by_price = merge_sort(chocolates.copy(), 'price')\n",
        "\n",
        "print(\"\\nChocolates sorted by weight:\")\n",
        "for chocolate in sorted_by_weight:\n",
        "    print(chocolate)\n",
        "\n",
        "print(\"\\nChocolates sorted by price:\")\n",
        "for chocolate in sorted_by_price:\n",
        "    print(chocolate)\n"
      ],
      "metadata": {
        "colab": {
          "base_uri": "https://localhost:8080/"
        },
        "id": "ZinqH4ri0chb",
        "outputId": "88c1348f-a0c3-4ca1-bd90-07ec6a853b10"
      },
      "execution_count": 2,
      "outputs": [
        {
          "output_type": "stream",
          "name": "stdout",
          "text": [
            "\n",
            "Chocolates sorted by weight:\n",
            "{'type': 'hazelnut', 'weight': 2, 'price': 9, 'ID': '007'}\n",
            "{'type': 'Caramel', 'weight': 3, 'price': 6, 'ID': '006'}\n",
            "{'type': 'Almond', 'weight': 3, 'price': 2, 'ID': '002'}\n",
            "{'type': 'Pistachio', 'weight': 5, 'price': 3, 'ID': '005'}\n",
            "{'type': 'Milk', 'weight': 5, 'price': 3, 'ID': '003'}\n",
            "{'type': 'strawberry', 'weight': 8, 'price': 5, 'ID': '004'}\n",
            "\n",
            "Chocolates sorted by price:\n",
            "{'type': 'Almond', 'weight': 3, 'price': 2, 'ID': '002'}\n",
            "{'type': 'Pistachio', 'weight': 5, 'price': 3, 'ID': '005'}\n",
            "{'type': 'Milk', 'weight': 5, 'price': 3, 'ID': '003'}\n",
            "{'type': 'strawberry', 'weight': 8, 'price': 5, 'ID': '004'}\n",
            "{'type': 'Caramel', 'weight': 3, 'price': 6, 'ID': '006'}\n",
            "{'type': 'hazelnut', 'weight': 2, 'price': 9, 'ID': '007'}\n"
          ]
        }
      ]
    },
    {
      "cell_type": "markdown",
      "source": [
        "Question 3 Code:"
      ],
      "metadata": {
        "id": "Zo2tFtRuMvcu"
      }
    },
    {
      "cell_type": "code",
      "source": [
        "\n",
        "\n",
        "#Q3\n",
        "def find_student(chocolates, search_key):                       #loop through the list of dictionaries\n",
        "    for i in range(len(chocolates)):                            # check if the value of the specified key matches the search value\n",
        "        if chocolates[i][search_key] == search_value:           # if found , return the corresrponding dictionary\n",
        "            return students[i]\n",
        "    return \"No student found\"                                   # if no student is found , retun a message \" no student found\"\n",
        "\n",
        "\n",
        "\n",
        "\n",
        "chocolates = [\n",
        "    {'type': 'Almond', 'weight': 3, 'price': 2 , 'ID':'002'} ,\n",
        "    {'type': 'Milk', 'weight': 5, 'price': 3, 'ID':'003'},\n",
        "    {'type': 'strawberry' , 'weight': 8, 'price': 5, 'ID':'004'},\n",
        "    {'type': 'Pistachio', 'weight': 5, 'price': 3, 'ID':'005'},\n",
        "    {'type': 'Caramel', 'weight': 3, 'price': 6, 'ID':'006'},\n",
        "    {'type': 'hazelnut', 'weight': 2, 'price': 9, 'ID':'007'}]\n",
        "\n",
        "\n",
        "students = ['Mohammed','Sara', 'Shamma', 'Saeed', 'Noora' , \"Alya\"]\n",
        "\n",
        "\n",
        "search_key = 'price'                                           # specify the key to search for in the chocolate list\n",
        "search_value = 1                                           # specify the value to search for in the chocolate list                                            # specify the value to search for in the chocolate list\n",
        "student = find_student(chocolates, search_key)                 # call the find_student funtion to find a student based on the specified search\n",
        "\n",
        "print(f\"The student holding a chocolate with {search_key} {search_value} is {student}\")\n",
        "\n",
        "search_key = 'price'                                           # specify the key to search for in the chocolate list\n",
        "search_value = 9                                          # specify the value to search for in the chocolate list                                            # specify the value to search for in the chocolate list\n",
        "student = find_student(chocolates, search_key)                 # call the find_student funtion to find a student based on the specified search\n",
        "\n",
        "print(f\"The student holding a chocolate with {search_key} {search_value} is {student}\")\n"
      ],
      "metadata": {
        "colab": {
          "base_uri": "https://localhost:8080/"
        },
        "id": "LD6GGuac0qNt",
        "outputId": "d7b8ffcb-9ae5-41de-a8bd-7e862a7aafb6"
      },
      "execution_count": 3,
      "outputs": [
        {
          "output_type": "stream",
          "name": "stdout",
          "text": [
            "The student holding a chocolate with price 1 is No student found\n",
            "The student holding a chocolate with price 9 is Alya\n"
          ]
        }
      ]
    }
  ]
}